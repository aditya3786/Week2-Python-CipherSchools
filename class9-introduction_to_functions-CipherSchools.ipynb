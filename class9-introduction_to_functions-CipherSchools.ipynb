{
 "cells": [
  {
   "cell_type": "code",
   "execution_count": null,
   "metadata": {},
   "outputs": [],
   "source": [
    "a=5\n",
    "b=7\n",
    "print(a+b)\n",
    "print(\"waiting...\")\n",
    "print(\"waiting...\")\n",
    "print(\"waiting...\")\n",
    "\n",
    "print(a-b)\n",
    "print(\"waiting...\")\n",
    "print(\"waiting...\")\n",
    "print(\"waiting...\")\n",
    "\n",
    "print(a*b)\n",
    "print(\"waiting...\")\n",
    "print(\"waiting...\")\n",
    "print(\"waiting...\")"
   ]
  },
  {
   "cell_type": "code",
   "execution_count": null,
   "metadata": {},
   "outputs": [],
   "source": [
    "a=5\n",
    "b=7\n",
    "print(a+b)\n",
    "print(\"loading...\")\n",
    "print(\"loading...\")\n",
    "print(\"loading...\")\n",
    "\n",
    "print(a-b)\n",
    "print(\"loading...\")\n",
    "print(\"loading...\")\n",
    "print(\"loading...\")\n",
    "\n",
    "print(a*b)\n",
    "print(\"loading...\")\n",
    "print(\"loading...\")\n",
    "print(\"loading...\")"
   ]
  },
  {
   "cell_type": "code",
   "execution_count": null,
   "metadata": {},
   "outputs": [],
   "source": [
    "x=6\n",
    "x=\"jatin\"\n",
    "x=1.5\n",
    "x=print"
   ]
  },
  {
   "cell_type": "code",
   "execution_count": null,
   "metadata": {},
   "outputs": [],
   "source": [
    "def shoow_loading():\n",
    "  for i in range(3):\n",
    "    print(\"loading....\")\n",
    "a=5\n",
    "b=7\n",
    "print(a+b)\n",
    "shoow_loading()\n",
    "\n",
    "print(a-b)\n",
    "shoow_loading()\n",
    "\n",
    "print(a*b)\n",
    "shoow_loading()"
   ]
  },
  {
   "cell_type": "code",
   "execution_count": null,
   "metadata": {},
   "outputs": [],
   "source": [
    "def shoow_loading():\n",
    "  for i in range(3):\n",
    "    print(i)\n",
    "    print(\"loading....\")\n",
    "shoow_loading()"
   ]
  },
  {
   "cell_type": "code",
   "execution_count": 3,
   "metadata": {},
   "outputs": [
    {
     "name": "stdout",
     "output_type": "stream",
     "text": [
      "loading .\n",
      "loading ..\n",
      "loading ...\n"
     ]
    }
   ],
   "source": [
    "def show_loading():\n",
    "  for i in range(3):\n",
    "      print(\"loading\", \".\"*(i+1))\n",
    "show_loading()"
   ]
  },
  {
   "cell_type": "code",
   "execution_count": null,
   "metadata": {},
   "outputs": [],
   "source": [
    "def sheldon_knock():\n",
    "  for _ in range(3):\n",
    "    print(\"knock knock knock penny\")\n",
    "sheldon_knock()"
   ]
  },
  {
   "cell_type": "code",
   "execution_count": null,
   "metadata": {},
   "outputs": [],
   "source": [
    "def sheldon_knock(name):\n",
    "  for i in range(3):\n",
    "     print(\"knock knock knock\", name)\n",
    "sheldon_knock(\"leopard\")"
   ]
  },
  {
   "cell_type": "code",
   "execution_count": null,
   "metadata": {},
   "outputs": [],
   "source": [
    "def sheldon_knock(name, times = 3):\n",
    "  for i in range(times):\n",
    "    print(\"knock knock knock\", name)\n",
    "sheldon_knock(\"penny\",100)"
   ]
  },
  {
   "cell_type": "code",
   "execution_count": null,
   "metadata": {},
   "outputs": [],
   "source": [
    "def add(a, b):\n",
    "  return a+b\n",
    "a=add(1,2)\n",
    "print(a)"
   ]
  }
 ],
 "metadata": {
  "kernelspec": {
   "display_name": "Python 3",
   "language": "python",
   "name": "python3"
  },
  "language_info": {
   "codemirror_mode": {
    "name": "ipython",
    "version": 3
   },
   "file_extension": ".py",
   "mimetype": "text/x-python",
   "name": "python",
   "nbconvert_exporter": "python",
   "pygments_lexer": "ipython3",
   "version": "3.11.1 (tags/v3.11.1:a7a450f, Dec  6 2022, 19:58:39) [MSC v.1934 64 bit (AMD64)]"
  },
  "orig_nbformat": 4,
  "vscode": {
   "interpreter": {
    "hash": "4a00e7afc7fd657a999cc255a4f4f9f12ef404fea1b1e779d77a77e9d1b5a2cd"
   }
  }
 },
 "nbformat": 4,
 "nbformat_minor": 2
}
